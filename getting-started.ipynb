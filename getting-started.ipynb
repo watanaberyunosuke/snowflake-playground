{
 "cells": [
  {
   "cell_type": "code",
   "execution_count": 100,
   "id": "initial_id",
   "metadata": {
    "collapsed": true,
    "ExecuteTime": {
     "end_time": "2023-11-11T13:43:07.126620Z",
     "start_time": "2023-11-11T13:43:07.117488Z"
    }
   },
   "outputs": [
    {
     "data": {
      "text/plain": "<IPython.core.display.Markdown object>",
      "text/markdown": "\nGetting Started\n"
     },
     "metadata": {},
     "output_type": "display_data"
    }
   ],
   "source": [
    "%%markdown\n",
    "\n",
    "Getting Started"
   ]
  },
  {
   "cell_type": "code",
   "execution_count": 101,
   "outputs": [
    {
     "data": {
      "text/plain": "<IPython.core.display.Markdown object>",
      "text/markdown": "\nImport environment variables and session\n"
     },
     "metadata": {},
     "output_type": "display_data"
    }
   ],
   "source": [
    "%%markdown\n",
    "\n",
    "Import environment variables and session"
   ],
   "metadata": {
    "collapsed": false,
    "ExecuteTime": {
     "end_time": "2023-11-11T13:43:07.126812Z",
     "start_time": "2023-11-11T13:43:07.121703Z"
    }
   },
   "id": "64b72abbe5b6a725"
  },
  {
   "cell_type": "code",
   "execution_count": 102,
   "outputs": [],
   "source": [
    "import os\n",
    "\n",
    "from dotenv import load_dotenv\n",
    "from snowflake.snowpark import Session\n",
    "import snowflake.snowpark.functions as F "
   ],
   "metadata": {
    "collapsed": false,
    "ExecuteTime": {
     "end_time": "2023-11-11T13:43:07.127468Z",
     "start_time": "2023-11-11T13:43:07.124866Z"
    }
   },
   "id": "f4c43f4b7ec18366"
  },
  {
   "cell_type": "code",
   "execution_count": 103,
   "outputs": [],
   "source": [
    "load_dotenv()\n",
    "\n",
    "account=os.environ.get(\"SNOWFLAKE_ACCOUNT\")\n",
    "user=os.environ.get(\"SNOWFLAKE_USER\")\n",
    "password=os.environ.get(\"SNOWFLAKE_PASSWORD\")\n",
    "\n",
    "connection_parameters = {\n",
    "    \"account\": account,\n",
    "    \"user\": user,\n",
    "    \"password\": password,\n",
    "    \"role\": \"accountadmin\",\n",
    "    \"database\": \"snowpark_demo_db\",\n",
    "    \"schema\": \"snowpark_demo_schema\"\n",
    "}\n",
    "\n",
    "session = Session.builder.configs(connection_parameters).create()\n"
   ],
   "metadata": {
    "collapsed": false,
    "ExecuteTime": {
     "end_time": "2023-11-11T13:43:07.587750Z",
     "start_time": "2023-11-11T13:43:07.128409Z"
    }
   },
   "id": "3a678c70a382dfd3"
  },
  {
   "cell_type": "code",
   "execution_count": 104,
   "outputs": [],
   "source": [
    "# Select CARTO data\n",
    "# dataframe_carto_raw = session.table(\"analytics_toolbox.public.coord_sample\")\n",
    "# stored_proc_h3_boundary = builtin(\"H3_Boundary\")"
   ],
   "metadata": {
    "collapsed": false,
    "ExecuteTime": {
     "end_time": "2023-11-11T13:43:07.592695Z",
     "start_time": "2023-11-11T13:43:07.589481Z"
    }
   },
   "id": "7b44da6c64d493a1"
  },
  {
   "cell_type": "code",
   "execution_count": 105,
   "outputs": [
    {
     "data": {
      "text/plain": "<IPython.core.display.Markdown object>",
      "text/markdown": "\nSnowflake dataframe\n"
     },
     "metadata": {},
     "output_type": "display_data"
    }
   ],
   "source": [
    "%%markdown\n",
    "\n",
    "Snowflake dataframe"
   ],
   "metadata": {
    "collapsed": false,
    "ExecuteTime": {
     "end_time": "2023-11-11T13:43:07.597262Z",
     "start_time": "2023-11-11T13:43:07.593006Z"
    }
   },
   "id": "f279bf00ec5abfa6"
  },
  {
   "cell_type": "code",
   "execution_count": 106,
   "outputs": [],
   "source": [
    "snow_df_spend = session.table(\"campaign_spend\")\n",
    "snow_df_revenue = session.table(\"monthly_revenue\")"
   ],
   "metadata": {
    "collapsed": false,
    "ExecuteTime": {
     "end_time": "2023-11-11T13:43:07.601632Z",
     "start_time": "2023-11-11T13:43:07.597446Z"
    }
   },
   "id": "e54136baef9447dd"
  },
  {
   "cell_type": "code",
   "execution_count": 107,
   "outputs": [
    {
     "data": {
      "text/plain": "<IPython.core.display.Markdown object>",
      "text/markdown": "\nTotal spend per month per channel\n"
     },
     "metadata": {},
     "output_type": "display_data"
    }
   ],
   "source": [
    "%%markdown\n",
    "\n",
    "Total spend per month per channel"
   ],
   "metadata": {
    "collapsed": false,
    "ExecuteTime": {
     "end_time": "2023-11-11T13:43:07.606122Z",
     "start_time": "2023-11-11T13:43:07.600678Z"
    }
   },
   "id": "9e15fa8707f43c21"
  },
  {
   "cell_type": "code",
   "execution_count": 108,
   "outputs": [],
   "source": [
    "snow_df_spend_per_channel = snow_df_spend.group_by(F.year('DATE'), F.month('DATE'),'CHANNEL') \\\n",
    "    .agg(sum('TOTAL_COST').as_('TOTAL_COST')) \\\n",
    "    .with_column_renamed('\"YEAR(DATE)\"',\"YEAR\").with_column_renamed('\"MONTH(DATE)\"',\"MONTH\").sort('YEAR','MONTH')"
   ],
   "metadata": {
    "collapsed": false,
    "ExecuteTime": {
     "end_time": "2023-11-11T13:43:07.801211Z",
     "start_time": "2023-11-11T13:43:07.605371Z"
    }
   },
   "id": "dcea4b52dcd220e7"
  },
  {
   "cell_type": "code",
   "execution_count": 109,
   "outputs": [
    {
     "name": "stdout",
     "output_type": "stream",
     "text": [
      "Total spend per Year and Month For All Channels\n",
      "---------------------------------------------------\n",
      "|\"YEAR\"  |\"MONTH\"  |\"CHANNEL\"      |\"TOTAL_COST\"  |\n",
      "---------------------------------------------------\n",
      "|2012    |5        |search_engine  |516431        |\n",
      "|2012    |5        |video          |516729        |\n",
      "|2012    |5        |email          |517208        |\n",
      "|2012    |5        |social_media   |517618        |\n",
      "|2012    |6        |video          |501098        |\n",
      "|2012    |6        |search_engine  |506497        |\n",
      "|2012    |6        |social_media   |504679        |\n",
      "|2012    |6        |email          |501947        |\n",
      "|2012    |7        |search_engine  |522780        |\n",
      "|2012    |7        |email          |518405        |\n",
      "---------------------------------------------------\n"
     ]
    }
   ],
   "source": [
    "print(\"Total spend per Year and Month For All Channels\")\n",
    "snow_df_spend_per_channel.show()"
   ],
   "metadata": {
    "collapsed": false,
    "ExecuteTime": {
     "end_time": "2023-11-11T13:43:07.961069Z",
     "start_time": "2023-11-11T13:43:07.791634Z"
    }
   },
   "id": "9446155c88d5b72d"
  },
  {
   "cell_type": "code",
   "execution_count": 110,
   "outputs": [
    {
     "data": {
      "text/plain": "<IPython.core.display.Markdown object>",
      "text/markdown": "\n# Total Spend Across All Channels\n\nLet's further transform the campaign spend data so that each row represents total cost across all channels per year/month using the pivot() and sum() Snowpark DataFrame functions.\n \n This transformation lets us join with the revenue table so that our input features and target variable will be in a single table for model training.\n\n"
     },
     "metadata": {},
     "output_type": "display_data"
    }
   ],
   "source": [
    "%%markdown\n",
    "\n",
    "# Total Spend Across All Channels\n",
    "\n",
    "Let's further transform the campaign spend data so that each row represents total cost across all channels per year/month using the pivot() and sum() Snowpark DataFrame functions.\n",
    " \n",
    " This transformation lets us join with the revenue table so that our input features and target variable will be in a single table for model training.\n"
   ],
   "metadata": {
    "collapsed": false,
    "ExecuteTime": {
     "end_time": "2023-11-11T13:43:07.965322Z",
     "start_time": "2023-11-11T13:43:07.958288Z"
    }
   },
   "id": "eb9eebe27b4218e3"
  },
  {
   "cell_type": "code",
   "execution_count": 111,
   "outputs": [],
   "source": [
    "snow_df_spend_per_month = snow_df_spend_per_channel \\\n",
    "    .pivot('CHANNEL', ['search_engine', 'social_media', 'video', 'email']) \\\n",
    "    .sum('TOTAL_COST').sort('YEAR', 'MONTH')"
   ],
   "metadata": {
    "collapsed": false,
    "ExecuteTime": {
     "end_time": "2023-11-11T13:43:08.015091Z",
     "start_time": "2023-11-11T13:43:07.963947Z"
    }
   },
   "id": "c9d775678891aeb8"
  },
  {
   "cell_type": "code",
   "execution_count": 112,
   "outputs": [],
   "source": [
    "snow_df_spend_per_month = snow_df_spend_per_month.select(\n",
    "    F.col(\"YEAR\"),\n",
    "    F.col(\"MONTH\"),\n",
    "    F.col(\"'search_engine'\").as_(\"SEARCH_ENGINE\"),\n",
    "    F.col(\"'social_media'\").as_(\"SOCIAL_MEDIA\"),\n",
    "    F.col(\"'video'\").as_(\"VIDEO\"),\n",
    "    F.col(\"'email'\").as_(\"EMAIL\")\n",
    ")"
   ],
   "metadata": {
    "collapsed": false,
    "ExecuteTime": {
     "end_time": "2023-11-11T13:43:08.019497Z",
     "start_time": "2023-11-11T13:43:08.015359Z"
    }
   },
   "id": "b1545975e86b0e2e"
  },
  {
   "cell_type": "code",
   "execution_count": 115,
   "outputs": [
    {
     "name": "stdout",
     "output_type": "stream",
     "text": [
      "Total Spend Across All Channels\n",
      "---------------------------------------------------------------------------\n",
      "|\"YEAR\"  |\"MONTH\"  |\"SEARCH_ENGINE\"  |\"SOCIAL_MEDIA\"  |\"VIDEO\"  |\"EMAIL\"  |\n",
      "---------------------------------------------------------------------------\n",
      "|2012    |5        |516431           |517618          |516729   |517208   |\n",
      "|2012    |6        |506497           |504679          |501098   |501947   |\n",
      "|2012    |7        |522780           |521395          |522762   |518405   |\n",
      "|2012    |8        |519959           |520537          |520685   |521584   |\n",
      "|2012    |9        |507211           |507404          |511364   |507363   |\n",
      "|2012    |10       |518942           |520863          |522768   |519950   |\n",
      "|2012    |11       |505715           |505221          |505292   |503748   |\n",
      "|2012    |12       |520148           |520711          |521427   |520724   |\n",
      "|2013    |1        |522151           |518635          |520583   |521167   |\n",
      "|2013    |2        |467736           |474679          |469856   |469784   |\n",
      "---------------------------------------------------------------------------\n"
     ]
    }
   ],
   "source": [
    "print(\"Total Spend Across All Channels\")\n",
    "snow_df_spend_per_month.show()\n"
   ],
   "metadata": {
    "collapsed": false,
    "ExecuteTime": {
     "end_time": "2023-11-11T13:48:57.720139Z",
     "start_time": "2023-11-11T13:48:57.623810Z"
    }
   },
   "id": "e28e50097e6a6bf6"
  },
  {
   "cell_type": "code",
   "execution_count": 117,
   "outputs": [],
   "source": [
    "snow_df_revenue_per_month = snow_df_revenue.group_by('YEAR', 'MONTH').agg(sum('REVENUE')).sort('YEAR','MONTH').with_column_renamed('SUM(REVENUE)', 'REVENUE')"
   ],
   "metadata": {
    "collapsed": false,
    "ExecuteTime": {
     "end_time": "2023-11-11T13:51:08.614298Z",
     "start_time": "2023-11-11T13:51:08.228021Z"
    }
   },
   "id": "b7e50425ed29cb2e"
  },
  {
   "cell_type": "code",
   "execution_count": 118,
   "outputs": [
    {
     "name": "stdout",
     "output_type": "stream",
     "text": [
      "Total Revenue per Year and Month\n",
      "---------------------------------\n",
      "|\"YEAR\"  |\"MONTH\"  |\"REVENUE\"   |\n",
      "---------------------------------\n",
      "|2012    |5        |3264300.11  |\n",
      "|2012    |6        |3208482.33  |\n",
      "|2012    |7        |3311966.98  |\n",
      "|2012    |8        |3311752.81  |\n",
      "|2012    |9        |3208563.06  |\n",
      "|2012    |10       |3334028.46  |\n",
      "|2012    |11       |3185894.64  |\n",
      "|2012    |12       |3334570.96  |\n",
      "|2013    |1        |3316455.44  |\n",
      "|2013    |2        |2995042.21  |\n",
      "---------------------------------\n"
     ]
    }
   ],
   "source": [
    "print(\"Total Revenue per Year and Month\")\n",
    "snow_df_revenue_per_month.show()"
   ],
   "metadata": {
    "collapsed": false,
    "ExecuteTime": {
     "end_time": "2023-11-11T13:51:09.868443Z",
     "start_time": "2023-11-11T13:51:09.180552Z"
    }
   },
   "id": "ed879ffb3b1c7bf0"
  },
  {
   "cell_type": "code",
   "execution_count": 119,
   "outputs": [
    {
     "data": {
      "text/plain": "<IPython.core.display.Markdown object>",
      "text/markdown": " \n Join Total Spend and Total Revenue per Year and Month Across All Channels\n\nNext let's join this revenue data with the transformed campaign spend data so that our input features (i.e. cost per channel) and target variable (i.e. revenue) can be loaded into a single table for model training.\n    \n"
     },
     "metadata": {},
     "output_type": "display_data"
    }
   ],
   "source": [
    "%%markdown\n",
    " \n",
    " Join Total Spend and Total Revenue per Year and Month Across All Channels\n",
    "\n",
    "Next let's join this revenue data with the transformed campaign spend data so that our input features (i.e. cost per channel) and target variable (i.e. revenue) can be loaded into a single table for model training.\n",
    "    "
   ],
   "metadata": {
    "collapsed": false,
    "ExecuteTime": {
     "end_time": "2023-11-11T13:52:25.783015Z",
     "start_time": "2023-11-11T13:52:25.777159Z"
    }
   },
   "id": "4e5ce2d709ca0b7a"
  },
  {
   "cell_type": "code",
   "execution_count": 120,
   "outputs": [],
   "source": [
    "snow_df_spend_and_revenue_per_month = snow_df_spend_per_month.join(snow_df_revenue_per_month, [\"YEAR\", \"MONTH\"])"
   ],
   "metadata": {
    "collapsed": false,
    "ExecuteTime": {
     "end_time": "2023-11-11T13:52:27.893051Z",
     "start_time": "2023-11-11T13:52:27.759797Z"
    }
   },
   "id": "119f8d8d5bd4ca8"
  },
  {
   "cell_type": "code",
   "execution_count": 121,
   "outputs": [],
   "source": [
    "session.close()"
   ],
   "metadata": {
    "collapsed": false,
    "ExecuteTime": {
     "end_time": "2023-11-11T14:08:08.483721Z",
     "start_time": "2023-11-11T14:08:07.742006Z"
    }
   },
   "id": "fd6d5cf8e7e80626"
  },
  {
   "cell_type": "code",
   "execution_count": 113,
   "outputs": [],
   "source": [],
   "metadata": {
    "collapsed": false,
    "ExecuteTime": {
     "end_time": "2023-11-11T13:43:08.027672Z",
     "start_time": "2023-11-11T13:43:08.023852Z"
    }
   },
   "id": "5782fe4b7bd3ef57"
  }
 ],
 "metadata": {
  "kernelspec": {
   "display_name": "Python 3",
   "language": "python",
   "name": "python3"
  },
  "language_info": {
   "codemirror_mode": {
    "name": "ipython",
    "version": 2
   },
   "file_extension": ".py",
   "mimetype": "text/x-python",
   "name": "python",
   "nbconvert_exporter": "python",
   "pygments_lexer": "ipython2",
   "version": "2.7.6"
  }
 },
 "nbformat": 4,
 "nbformat_minor": 5
}
